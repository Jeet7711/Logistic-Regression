{
 "cells": [
  {
   "cell_type": "code",
   "execution_count": 1,
   "id": "48ba7ac0",
   "metadata": {},
   "outputs": [],
   "source": [
    "# step 1. Importing the packages\n",
    "\n",
    "import numpy as np\n",
    "import pandas as pd\n",
    "import matplotlib.pyplot as plt"
   ]
  },
  {
   "cell_type": "code",
   "execution_count": 2,
   "id": "c2997221",
   "metadata": {},
   "outputs": [
    {
     "data": {
      "text/html": [
       "<div>\n",
       "<style scoped>\n",
       "    .dataframe tbody tr th:only-of-type {\n",
       "        vertical-align: middle;\n",
       "    }\n",
       "\n",
       "    .dataframe tbody tr th {\n",
       "        vertical-align: top;\n",
       "    }\n",
       "\n",
       "    .dataframe thead th {\n",
       "        text-align: right;\n",
       "    }\n",
       "</style>\n",
       "<table border=\"1\" class=\"dataframe\">\n",
       "  <thead>\n",
       "    <tr style=\"text-align: right;\">\n",
       "      <th></th>\n",
       "      <th>tenure</th>\n",
       "      <th>age</th>\n",
       "      <th>address</th>\n",
       "      <th>income</th>\n",
       "      <th>ed</th>\n",
       "      <th>employ</th>\n",
       "      <th>equip</th>\n",
       "      <th>callcard</th>\n",
       "      <th>wireless</th>\n",
       "      <th>longmon</th>\n",
       "      <th>...</th>\n",
       "      <th>pager</th>\n",
       "      <th>internet</th>\n",
       "      <th>callwait</th>\n",
       "      <th>confer</th>\n",
       "      <th>ebill</th>\n",
       "      <th>loglong</th>\n",
       "      <th>logtoll</th>\n",
       "      <th>lninc</th>\n",
       "      <th>custcat</th>\n",
       "      <th>churn</th>\n",
       "    </tr>\n",
       "  </thead>\n",
       "  <tbody>\n",
       "    <tr>\n",
       "      <th>0</th>\n",
       "      <td>11.0</td>\n",
       "      <td>33.0</td>\n",
       "      <td>7.0</td>\n",
       "      <td>136.0</td>\n",
       "      <td>5.0</td>\n",
       "      <td>5.0</td>\n",
       "      <td>0.0</td>\n",
       "      <td>1.0</td>\n",
       "      <td>1.0</td>\n",
       "      <td>4.40</td>\n",
       "      <td>...</td>\n",
       "      <td>1.0</td>\n",
       "      <td>0.0</td>\n",
       "      <td>1.0</td>\n",
       "      <td>1.0</td>\n",
       "      <td>0.0</td>\n",
       "      <td>1.482</td>\n",
       "      <td>3.033</td>\n",
       "      <td>4.913</td>\n",
       "      <td>4.0</td>\n",
       "      <td>1.0</td>\n",
       "    </tr>\n",
       "    <tr>\n",
       "      <th>1</th>\n",
       "      <td>33.0</td>\n",
       "      <td>33.0</td>\n",
       "      <td>12.0</td>\n",
       "      <td>33.0</td>\n",
       "      <td>2.0</td>\n",
       "      <td>0.0</td>\n",
       "      <td>0.0</td>\n",
       "      <td>0.0</td>\n",
       "      <td>0.0</td>\n",
       "      <td>9.45</td>\n",
       "      <td>...</td>\n",
       "      <td>0.0</td>\n",
       "      <td>0.0</td>\n",
       "      <td>0.0</td>\n",
       "      <td>0.0</td>\n",
       "      <td>0.0</td>\n",
       "      <td>2.246</td>\n",
       "      <td>3.240</td>\n",
       "      <td>3.497</td>\n",
       "      <td>1.0</td>\n",
       "      <td>1.0</td>\n",
       "    </tr>\n",
       "    <tr>\n",
       "      <th>2</th>\n",
       "      <td>23.0</td>\n",
       "      <td>30.0</td>\n",
       "      <td>9.0</td>\n",
       "      <td>30.0</td>\n",
       "      <td>1.0</td>\n",
       "      <td>2.0</td>\n",
       "      <td>0.0</td>\n",
       "      <td>0.0</td>\n",
       "      <td>0.0</td>\n",
       "      <td>6.30</td>\n",
       "      <td>...</td>\n",
       "      <td>0.0</td>\n",
       "      <td>0.0</td>\n",
       "      <td>0.0</td>\n",
       "      <td>1.0</td>\n",
       "      <td>0.0</td>\n",
       "      <td>1.841</td>\n",
       "      <td>3.240</td>\n",
       "      <td>3.401</td>\n",
       "      <td>3.0</td>\n",
       "      <td>0.0</td>\n",
       "    </tr>\n",
       "    <tr>\n",
       "      <th>3</th>\n",
       "      <td>38.0</td>\n",
       "      <td>35.0</td>\n",
       "      <td>5.0</td>\n",
       "      <td>76.0</td>\n",
       "      <td>2.0</td>\n",
       "      <td>10.0</td>\n",
       "      <td>1.0</td>\n",
       "      <td>1.0</td>\n",
       "      <td>1.0</td>\n",
       "      <td>6.05</td>\n",
       "      <td>...</td>\n",
       "      <td>1.0</td>\n",
       "      <td>1.0</td>\n",
       "      <td>1.0</td>\n",
       "      <td>1.0</td>\n",
       "      <td>1.0</td>\n",
       "      <td>1.800</td>\n",
       "      <td>3.807</td>\n",
       "      <td>4.331</td>\n",
       "      <td>4.0</td>\n",
       "      <td>0.0</td>\n",
       "    </tr>\n",
       "    <tr>\n",
       "      <th>4</th>\n",
       "      <td>7.0</td>\n",
       "      <td>35.0</td>\n",
       "      <td>14.0</td>\n",
       "      <td>80.0</td>\n",
       "      <td>2.0</td>\n",
       "      <td>15.0</td>\n",
       "      <td>0.0</td>\n",
       "      <td>1.0</td>\n",
       "      <td>0.0</td>\n",
       "      <td>7.10</td>\n",
       "      <td>...</td>\n",
       "      <td>0.0</td>\n",
       "      <td>0.0</td>\n",
       "      <td>1.0</td>\n",
       "      <td>1.0</td>\n",
       "      <td>0.0</td>\n",
       "      <td>1.960</td>\n",
       "      <td>3.091</td>\n",
       "      <td>4.382</td>\n",
       "      <td>3.0</td>\n",
       "      <td>0.0</td>\n",
       "    </tr>\n",
       "  </tbody>\n",
       "</table>\n",
       "<p>5 rows × 28 columns</p>\n",
       "</div>"
      ],
      "text/plain": [
       "   tenure   age  address  income   ed  employ  equip  callcard  wireless  \\\n",
       "0    11.0  33.0      7.0   136.0  5.0     5.0    0.0       1.0       1.0   \n",
       "1    33.0  33.0     12.0    33.0  2.0     0.0    0.0       0.0       0.0   \n",
       "2    23.0  30.0      9.0    30.0  1.0     2.0    0.0       0.0       0.0   \n",
       "3    38.0  35.0      5.0    76.0  2.0    10.0    1.0       1.0       1.0   \n",
       "4     7.0  35.0     14.0    80.0  2.0    15.0    0.0       1.0       0.0   \n",
       "\n",
       "   longmon  ...  pager  internet  callwait  confer  ebill  loglong  logtoll  \\\n",
       "0     4.40  ...    1.0       0.0       1.0     1.0    0.0    1.482    3.033   \n",
       "1     9.45  ...    0.0       0.0       0.0     0.0    0.0    2.246    3.240   \n",
       "2     6.30  ...    0.0       0.0       0.0     1.0    0.0    1.841    3.240   \n",
       "3     6.05  ...    1.0       1.0       1.0     1.0    1.0    1.800    3.807   \n",
       "4     7.10  ...    0.0       0.0       1.0     1.0    0.0    1.960    3.091   \n",
       "\n",
       "   lninc  custcat  churn  \n",
       "0  4.913      4.0    1.0  \n",
       "1  3.497      1.0    1.0  \n",
       "2  3.401      3.0    0.0  \n",
       "3  4.331      4.0    0.0  \n",
       "4  4.382      3.0    0.0  \n",
       "\n",
       "[5 rows x 28 columns]"
      ]
     },
     "execution_count": 2,
     "metadata": {},
     "output_type": "execute_result"
    }
   ],
   "source": [
    "# step 2. Load the data from CSV file\n",
    "\n",
    "churn_df = pd.read_csv(\"ChurnData.csv\")\n",
    "churn_df.head()"
   ]
  },
  {
   "cell_type": "code",
   "execution_count": 3,
   "id": "e7422435",
   "metadata": {},
   "outputs": [
    {
     "data": {
      "text/html": [
       "<div>\n",
       "<style scoped>\n",
       "    .dataframe tbody tr th:only-of-type {\n",
       "        vertical-align: middle;\n",
       "    }\n",
       "\n",
       "    .dataframe tbody tr th {\n",
       "        vertical-align: top;\n",
       "    }\n",
       "\n",
       "    .dataframe thead th {\n",
       "        text-align: right;\n",
       "    }\n",
       "</style>\n",
       "<table border=\"1\" class=\"dataframe\">\n",
       "  <thead>\n",
       "    <tr style=\"text-align: right;\">\n",
       "      <th></th>\n",
       "      <th>tenure</th>\n",
       "      <th>age</th>\n",
       "      <th>address</th>\n",
       "      <th>income</th>\n",
       "      <th>ed</th>\n",
       "      <th>employ</th>\n",
       "      <th>equip</th>\n",
       "      <th>callcard</th>\n",
       "      <th>wireless</th>\n",
       "      <th>churn</th>\n",
       "    </tr>\n",
       "  </thead>\n",
       "  <tbody>\n",
       "    <tr>\n",
       "      <th>0</th>\n",
       "      <td>11.0</td>\n",
       "      <td>33.0</td>\n",
       "      <td>7.0</td>\n",
       "      <td>136.0</td>\n",
       "      <td>5.0</td>\n",
       "      <td>5.0</td>\n",
       "      <td>0.0</td>\n",
       "      <td>1.0</td>\n",
       "      <td>1.0</td>\n",
       "      <td>1.0</td>\n",
       "    </tr>\n",
       "    <tr>\n",
       "      <th>1</th>\n",
       "      <td>33.0</td>\n",
       "      <td>33.0</td>\n",
       "      <td>12.0</td>\n",
       "      <td>33.0</td>\n",
       "      <td>2.0</td>\n",
       "      <td>0.0</td>\n",
       "      <td>0.0</td>\n",
       "      <td>0.0</td>\n",
       "      <td>0.0</td>\n",
       "      <td>1.0</td>\n",
       "    </tr>\n",
       "    <tr>\n",
       "      <th>2</th>\n",
       "      <td>23.0</td>\n",
       "      <td>30.0</td>\n",
       "      <td>9.0</td>\n",
       "      <td>30.0</td>\n",
       "      <td>1.0</td>\n",
       "      <td>2.0</td>\n",
       "      <td>0.0</td>\n",
       "      <td>0.0</td>\n",
       "      <td>0.0</td>\n",
       "      <td>0.0</td>\n",
       "    </tr>\n",
       "    <tr>\n",
       "      <th>3</th>\n",
       "      <td>38.0</td>\n",
       "      <td>35.0</td>\n",
       "      <td>5.0</td>\n",
       "      <td>76.0</td>\n",
       "      <td>2.0</td>\n",
       "      <td>10.0</td>\n",
       "      <td>1.0</td>\n",
       "      <td>1.0</td>\n",
       "      <td>1.0</td>\n",
       "      <td>0.0</td>\n",
       "    </tr>\n",
       "    <tr>\n",
       "      <th>4</th>\n",
       "      <td>7.0</td>\n",
       "      <td>35.0</td>\n",
       "      <td>14.0</td>\n",
       "      <td>80.0</td>\n",
       "      <td>2.0</td>\n",
       "      <td>15.0</td>\n",
       "      <td>0.0</td>\n",
       "      <td>1.0</td>\n",
       "      <td>0.0</td>\n",
       "      <td>0.0</td>\n",
       "    </tr>\n",
       "  </tbody>\n",
       "</table>\n",
       "</div>"
      ],
      "text/plain": [
       "   tenure   age  address  income   ed  employ  equip  callcard  wireless  \\\n",
       "0    11.0  33.0      7.0   136.0  5.0     5.0    0.0       1.0       1.0   \n",
       "1    33.0  33.0     12.0    33.0  2.0     0.0    0.0       0.0       0.0   \n",
       "2    23.0  30.0      9.0    30.0  1.0     2.0    0.0       0.0       0.0   \n",
       "3    38.0  35.0      5.0    76.0  2.0    10.0    1.0       1.0       1.0   \n",
       "4     7.0  35.0     14.0    80.0  2.0    15.0    0.0       1.0       0.0   \n",
       "\n",
       "   churn  \n",
       "0    1.0  \n",
       "1    1.0  \n",
       "2    0.0  \n",
       "3    0.0  \n",
       "4    0.0  "
      ]
     },
     "execution_count": 3,
     "metadata": {},
     "output_type": "execute_result"
    }
   ],
   "source": [
    "# Step 3. Data pre-processing and selection\n",
    "# Selecting Columns\n",
    "\n",
    "churn_df = churn_df[['tenure','age','address','income','ed','employ','equip','callcard','wireless','churn']]\n",
    "churn_df.head()"
   ]
  },
  {
   "cell_type": "code",
   "execution_count": 4,
   "id": "c07051d8",
   "metadata": {},
   "outputs": [
    {
     "data": {
      "text/html": [
       "<div>\n",
       "<style scoped>\n",
       "    .dataframe tbody tr th:only-of-type {\n",
       "        vertical-align: middle;\n",
       "    }\n",
       "\n",
       "    .dataframe tbody tr th {\n",
       "        vertical-align: top;\n",
       "    }\n",
       "\n",
       "    .dataframe thead th {\n",
       "        text-align: right;\n",
       "    }\n",
       "</style>\n",
       "<table border=\"1\" class=\"dataframe\">\n",
       "  <thead>\n",
       "    <tr style=\"text-align: right;\">\n",
       "      <th></th>\n",
       "      <th>tenure</th>\n",
       "      <th>age</th>\n",
       "      <th>address</th>\n",
       "      <th>income</th>\n",
       "      <th>ed</th>\n",
       "      <th>employ</th>\n",
       "      <th>equip</th>\n",
       "      <th>callcard</th>\n",
       "      <th>wireless</th>\n",
       "      <th>churn</th>\n",
       "    </tr>\n",
       "  </thead>\n",
       "  <tbody>\n",
       "    <tr>\n",
       "      <th>0</th>\n",
       "      <td>11.0</td>\n",
       "      <td>33.0</td>\n",
       "      <td>7.0</td>\n",
       "      <td>136.0</td>\n",
       "      <td>5.0</td>\n",
       "      <td>5.0</td>\n",
       "      <td>0.0</td>\n",
       "      <td>1.0</td>\n",
       "      <td>1.0</td>\n",
       "      <td>1</td>\n",
       "    </tr>\n",
       "    <tr>\n",
       "      <th>1</th>\n",
       "      <td>33.0</td>\n",
       "      <td>33.0</td>\n",
       "      <td>12.0</td>\n",
       "      <td>33.0</td>\n",
       "      <td>2.0</td>\n",
       "      <td>0.0</td>\n",
       "      <td>0.0</td>\n",
       "      <td>0.0</td>\n",
       "      <td>0.0</td>\n",
       "      <td>1</td>\n",
       "    </tr>\n",
       "    <tr>\n",
       "      <th>2</th>\n",
       "      <td>23.0</td>\n",
       "      <td>30.0</td>\n",
       "      <td>9.0</td>\n",
       "      <td>30.0</td>\n",
       "      <td>1.0</td>\n",
       "      <td>2.0</td>\n",
       "      <td>0.0</td>\n",
       "      <td>0.0</td>\n",
       "      <td>0.0</td>\n",
       "      <td>0</td>\n",
       "    </tr>\n",
       "    <tr>\n",
       "      <th>3</th>\n",
       "      <td>38.0</td>\n",
       "      <td>35.0</td>\n",
       "      <td>5.0</td>\n",
       "      <td>76.0</td>\n",
       "      <td>2.0</td>\n",
       "      <td>10.0</td>\n",
       "      <td>1.0</td>\n",
       "      <td>1.0</td>\n",
       "      <td>1.0</td>\n",
       "      <td>0</td>\n",
       "    </tr>\n",
       "    <tr>\n",
       "      <th>4</th>\n",
       "      <td>7.0</td>\n",
       "      <td>35.0</td>\n",
       "      <td>14.0</td>\n",
       "      <td>80.0</td>\n",
       "      <td>2.0</td>\n",
       "      <td>15.0</td>\n",
       "      <td>0.0</td>\n",
       "      <td>1.0</td>\n",
       "      <td>0.0</td>\n",
       "      <td>0</td>\n",
       "    </tr>\n",
       "  </tbody>\n",
       "</table>\n",
       "</div>"
      ],
      "text/plain": [
       "   tenure   age  address  income   ed  employ  equip  callcard  wireless  \\\n",
       "0    11.0  33.0      7.0   136.0  5.0     5.0    0.0       1.0       1.0   \n",
       "1    33.0  33.0     12.0    33.0  2.0     0.0    0.0       0.0       0.0   \n",
       "2    23.0  30.0      9.0    30.0  1.0     2.0    0.0       0.0       0.0   \n",
       "3    38.0  35.0      5.0    76.0  2.0    10.0    1.0       1.0       1.0   \n",
       "4     7.0  35.0     14.0    80.0  2.0    15.0    0.0       1.0       0.0   \n",
       "\n",
       "   churn  \n",
       "0      1  \n",
       "1      1  \n",
       "2      0  \n",
       "3      0  \n",
       "4      0  "
      ]
     },
     "execution_count": 4,
     "metadata": {},
     "output_type": "execute_result"
    }
   ],
   "source": [
    "# Step 4. Churn data is in float we converting the float into int\n",
    "\n",
    "churn_df['churn'] = churn_df['churn'].astype('int')\n",
    "churn_df.head()"
   ]
  },
  {
   "cell_type": "code",
   "execution_count": 5,
   "id": "be62978c",
   "metadata": {},
   "outputs": [
    {
     "data": {
      "text/plain": [
       "(200, 10)"
      ]
     },
     "execution_count": 5,
     "metadata": {},
     "output_type": "execute_result"
    }
   ],
   "source": [
    "# Info - How many rows and columns are in this dataset in total?\n",
    "\n",
    "churn_df.shape"
   ]
  },
  {
   "cell_type": "code",
   "execution_count": 6,
   "id": "f85ba700",
   "metadata": {},
   "outputs": [
    {
     "data": {
      "text/plain": [
       "Index(['tenure', 'age', 'address', 'income', 'ed', 'employ', 'equip',\n",
       "       'callcard', 'wireless', 'churn'],\n",
       "      dtype='object')"
      ]
     },
     "execution_count": 6,
     "metadata": {},
     "output_type": "execute_result"
    }
   ],
   "source": [
    "# Info - What are the names of columns\n",
    "\n",
    "churn_df.columns"
   ]
  },
  {
   "cell_type": "code",
   "execution_count": 7,
   "id": "2d306230",
   "metadata": {},
   "outputs": [
    {
     "name": "stdout",
     "output_type": "stream",
     "text": [
      "<class 'pandas.core.frame.DataFrame'>\n",
      "RangeIndex: 200 entries, 0 to 199\n",
      "Data columns (total 10 columns):\n",
      " #   Column    Non-Null Count  Dtype  \n",
      "---  ------    --------------  -----  \n",
      " 0   tenure    200 non-null    float64\n",
      " 1   age       200 non-null    float64\n",
      " 2   address   200 non-null    float64\n",
      " 3   income    200 non-null    float64\n",
      " 4   ed        200 non-null    float64\n",
      " 5   employ    200 non-null    float64\n",
      " 6   equip     200 non-null    float64\n",
      " 7   callcard  200 non-null    float64\n",
      " 8   wireless  200 non-null    float64\n",
      " 9   churn     200 non-null    int32  \n",
      "dtypes: float64(9), int32(1)\n",
      "memory usage: 15.0 KB\n"
     ]
    }
   ],
   "source": [
    "# Info - How many null / empty values present\n",
    "\n",
    "churn_df.info()"
   ]
  },
  {
   "cell_type": "code",
   "execution_count": 8,
   "id": "e20ab583",
   "metadata": {},
   "outputs": [],
   "source": [
    "# Step 5. Independent var converting into array and storing into x\n",
    "#         Dependent var converting into array and storing into y\n",
    "\n",
    "x = np.asarray(churn_df[['tenure','age','address','income','ed','employ','equip']])\n",
    "\n",
    "y = np.asarray(churn_df[['churn']])"
   ]
  },
  {
   "cell_type": "code",
   "execution_count": 9,
   "id": "9931e99b",
   "metadata": {},
   "outputs": [
    {
     "data": {
      "text/plain": [
       "array([[ 11.,  33.,   7., 136.,   5.,   5.,   0.]])"
      ]
     },
     "execution_count": 9,
     "metadata": {},
     "output_type": "execute_result"
    }
   ],
   "source": [
    "# Info - \n",
    "\n",
    "x[0:1] # 1st row"
   ]
  },
  {
   "cell_type": "code",
   "execution_count": 10,
   "id": "bd30f351",
   "metadata": {},
   "outputs": [
    {
     "data": {
      "text/plain": [
       "array([[1],\n",
       "       [1],\n",
       "       [0],\n",
       "       [0],\n",
       "       [0]])"
      ]
     },
     "execution_count": 10,
     "metadata": {},
     "output_type": "execute_result"
    }
   ],
   "source": [
    "# Info -\n",
    "\n",
    "y[0:5]"
   ]
  },
  {
   "cell_type": "code",
   "execution_count": 11,
   "id": "73878954",
   "metadata": {},
   "outputs": [
    {
     "data": {
      "text/plain": [
       "array([[ 11.,  33.,   7., 136.,   5.,   5.,   0.],\n",
       "       [ 33.,  33.,  12.,  33.,   2.,   0.,   0.]])"
      ]
     },
     "execution_count": 11,
     "metadata": {},
     "output_type": "execute_result"
    }
   ],
   "source": [
    "# Step 6. Normalise the dataset\n",
    "\n",
    "x[0:2]"
   ]
  },
  {
   "cell_type": "code",
   "execution_count": 12,
   "id": "d297d80d",
   "metadata": {},
   "outputs": [],
   "source": [
    "# above between 11 and 136 difference is huge therefor we have to create standard\n",
    "# values are in different range therefor ML is not working properly we have to tranform the data\n",
    "\n",
    "from sklearn import preprocessing\n",
    "\n",
    "x = preprocessing.StandardScaler().fit(x).transform(x)"
   ]
  },
  {
   "cell_type": "code",
   "execution_count": 13,
   "id": "20d349c5",
   "metadata": {},
   "outputs": [
    {
     "data": {
      "text/plain": [
       "array([[-1.13518441, -0.62595491, -0.4588971 ,  0.4751423 ,  1.6961288 ,\n",
       "        -0.58477841, -0.85972695]])"
      ]
     },
     "execution_count": 13,
     "metadata": {},
     "output_type": "execute_result"
    }
   ],
   "source": [
    "# After transforming\n",
    "\n",
    "x[0:1]"
   ]
  },
  {
   "cell_type": "code",
   "execution_count": 14,
   "id": "e3ec0319",
   "metadata": {},
   "outputs": [],
   "source": [
    "# step 7. Train/Test dataset - spliting\n",
    "\n",
    "from sklearn.model_selection import train_test_split\n",
    "\n",
    "x_train, x_test, y_train, y_test = train_test_split(x, y, test_size= 0.2, random_state = 200)"
   ]
  },
  {
   "cell_type": "code",
   "execution_count": 15,
   "id": "9d578ad2",
   "metadata": {},
   "outputs": [
    {
     "name": "stdout",
     "output_type": "stream",
     "text": [
      "(160, 7) (160, 1)\n",
      "(40, 7) (40, 1)\n"
     ]
    }
   ],
   "source": [
    "# Info\n",
    "print(x_train.shape , y_train.shape)\n",
    "print(x_test.shape , y_test.shape)"
   ]
  },
  {
   "cell_type": "code",
   "execution_count": 16,
   "id": "97cac398",
   "metadata": {},
   "outputs": [],
   "source": [
    "# Step 8. Modeling (Logistic Regression with Scikit-learn)\n",
    "# Lets build our model using LogisticRegression from Scikit-learn package. This function implements logistic regression and \n",
    "# can use different numerical optimizers to find parameters, including ‘newton-cg’, ‘lbfgs’, ‘liblinear’, ‘sag’, ‘saga’\n",
    "# solvers. You can find extensive information about the pros and cons of these optimizers if you search it in internet.\n",
    "# this optimisers find best values for the tita you have to use each one by one to find good accuracy"
   ]
  },
  {
   "cell_type": "code",
   "execution_count": 17,
   "id": "762315f0",
   "metadata": {},
   "outputs": [
    {
     "name": "stderr",
     "output_type": "stream",
     "text": [
      "C:\\Users\\lenovo\\anaconda3\\lib\\site-packages\\sklearn\\utils\\validation.py:993: DataConversionWarning: A column-vector y was passed when a 1d array was expected. Please change the shape of y to (n_samples, ), for example using ravel().\n",
      "  y = column_or_1d(y, warn=True)\n"
     ]
    },
    {
     "data": {
      "text/plain": [
       "LogisticRegression(solver='saga')"
      ]
     },
     "execution_count": 17,
     "metadata": {},
     "output_type": "execute_result"
    }
   ],
   "source": [
    "from sklearn.linear_model import LogisticRegression\n",
    "LR = LogisticRegression(solver = 'saga')\n",
    "LR.fit(x_train, y_train) # training\n",
    "LR"
   ]
  },
  {
   "cell_type": "code",
   "execution_count": 18,
   "id": "ed1dd674",
   "metadata": {},
   "outputs": [
    {
     "data": {
      "text/plain": [
       "array([1, 0, 0, 0])"
      ]
     },
     "execution_count": 18,
     "metadata": {},
     "output_type": "execute_result"
    }
   ],
   "source": [
    "# Step 9. We can preditct using our test set\n",
    "\n",
    "yhat = LR.predict(x_test)\n",
    "\n",
    "yhat[0:4]"
   ]
  },
  {
   "cell_type": "code",
   "execution_count": 19,
   "id": "bdba5340",
   "metadata": {},
   "outputs": [],
   "source": [
    "# predict_proba returns estimates for all classes, ordered by the label of classes. So, the 2nd column is the probability\n",
    "# of class 1, P(Y=1|X), and first column is probability ofclass 0, P(Y=0|X):"
   ]
  },
  {
   "cell_type": "code",
   "execution_count": 20,
   "id": "8f76a216",
   "metadata": {},
   "outputs": [
    {
     "data": {
      "text/plain": [
       "array([[0.25586804, 0.74413196],\n",
       "       [0.79838917, 0.20161083],\n",
       "       [0.97099504, 0.02900496],\n",
       "       [0.9610457 , 0.0389543 ]])"
      ]
     },
     "execution_count": 20,
     "metadata": {},
     "output_type": "execute_result"
    }
   ],
   "source": [
    "yhat_prob = LR.predict_proba(x_test) # calculating probability\n",
    "yhat_prob[:4]"
   ]
  },
  {
   "cell_type": "code",
   "execution_count": 21,
   "id": "0a13751a",
   "metadata": {},
   "outputs": [
    {
     "data": {
      "text/plain": [
       "0.75"
      ]
     },
     "execution_count": 21,
     "metadata": {},
     "output_type": "execute_result"
    }
   ],
   "source": [
    "# Step 10. Evaluation\n",
    "\n",
    "from sklearn.metrics import f1_score\n",
    "f1_score(y_test, yhat)    # here 75% accuracy"
   ]
  },
  {
   "cell_type": "code",
   "execution_count": 22,
   "id": "02f706a6",
   "metadata": {},
   "outputs": [],
   "source": [
    "# Info - Plotting is optional"
   ]
  },
  {
   "cell_type": "code",
   "execution_count": 23,
   "id": "296d825c",
   "metadata": {},
   "outputs": [
    {
     "data": {
      "text/plain": [
       "array([[-1.18150902e+00, -1.00927084e+00, -2.61522001e-01,\n",
       "        -1.01476095e-03,  9.16299467e-01, -1.03245566e+00,\n",
       "         1.16316000e+00],\n",
       "       [-2.08692340e-01,  3.70666503e-01,  1.12010367e+00,\n",
       "         5.37589130e-01,  9.16299467e-01,  3.10576093e-01,\n",
       "        -8.59726954e-01],\n",
       "       [ 9.95747358e-01,  1.44395110e+00,  8.24041023e-01,\n",
       "        -4.77171824e-01, -6.43359200e-01,  1.87744647e+00,\n",
       "        -8.59726954e-01],\n",
       "       [ 1.69061641e+00,  2.59389889e+00,  3.58729236e+00,\n",
       "        -4.77171824e-01, -6.43359200e-01, -4.72859097e-01,\n",
       "        -8.59726954e-01],\n",
       "       [ 1.61904490e-01, -1.31592358e+00, -9.52334835e-01,\n",
       "        -3.83501582e-01, -6.43359200e-01, -6.96697723e-01,\n",
       "        -8.59726954e-01],\n",
       "       [ 9.03098150e-01,  8.30645618e-01,  1.02141612e+00,\n",
       "         4.04889621e-01, -1.42318853e+00,  1.98936579e+00,\n",
       "        -8.59726954e-01],\n",
       "       [ 4.39852113e-01, -1.46924996e+00, -9.52334835e-01,\n",
       "        -3.05443047e-01,  9.16299467e-01, -1.14437497e+00,\n",
       "         1.16316000e+00],\n",
       "       [ 1.69061641e+00,  2.59389889e+00,  2.50172933e+00,\n",
       "        -3.28860608e-01, -1.42318853e+00,  3.78007479e+00,\n",
       "        -8.59726954e-01],\n",
       "       [ 1.41266879e+00,  1.59727748e+00,  1.90960405e+00,\n",
       "        -2.19578659e-01, -6.43359200e-01, -6.96697723e-01,\n",
       "        -8.59726954e-01],\n",
       "       [ 1.08839657e+00,  1.06063518e+00,  1.71222895e+00,\n",
       "        -2.58607926e-01,  1.36470133e-01,  1.20593060e+00,\n",
       "        -8.59726954e-01],\n",
       "       [ 1.55164260e+00,  3.70666503e-01,  6.26665928e-01,\n",
       "        -7.12674424e-02, -6.43359200e-01,  9.82091970e-01,\n",
       "        -8.59726954e-01],\n",
       "       [-1.59843045e+00, -8.55944470e-01, -8.53647287e-01,\n",
       "         4.67336448e-01,  9.16299467e-01, -8.08617036e-01,\n",
       "         1.16316000e+00],\n",
       "       [-7.64587585e-01, -7.02618098e-01,  3.45406417e-02,\n",
       "        -3.22381749e-02,  9.16299467e-01, -5.84778410e-01,\n",
       "         1.16316000e+00],\n",
       "       [ 1.64429181e+00,  5.23992875e-01,  1.31747876e+00,\n",
       "         1.66163203e+00,  1.36470133e-01,  9.82091970e-01,\n",
       "        -8.59726954e-01],\n",
       "       [ 3.93527509e-01,  2.94003318e-01,  7.25353475e-01,\n",
       "         1.00461334e-01, -1.42318853e+00,  1.20593060e+00,\n",
       "        -8.59726954e-01],\n",
       "       [-9.96210604e-01, -1.16259721e+00, -1.05102238e+00,\n",
       "        -3.91307435e-01, -6.43359200e-01, -1.14437497e+00,\n",
       "        -8.59726954e-01],\n",
       "       [-5.79289170e-01,  6.77319247e-01, -1.05102238e+00,\n",
       "         5.92230104e-01,  9.16299467e-01, -2.49020471e-01,\n",
       "        -8.59726954e-01],\n",
       "       [ 1.50531800e+00,  8.30645618e-01,  5.27978380e-01,\n",
       "         3.50248646e-01, -1.42318853e+00,  1.54168853e+00,\n",
       "        -8.59726954e-01],\n",
       "       [ 4.39852113e-01, -1.08593403e+00, -8.53647287e-01,\n",
       "        -2.82025487e-01,  1.36470133e-01, -9.20536348e-01,\n",
       "        -8.59726954e-01],\n",
       "       [-1.08885981e+00, -1.31592358e+00, -9.52334835e-01,\n",
       "        -4.38142556e-01, -1.42318853e+00, -1.14437497e+00,\n",
       "        -8.59726954e-01],\n",
       "       [ 1.59796721e+00, -4.72628541e-01, -7.54959740e-01,\n",
       "        -2.11772805e-01, -6.43359200e-01, -1.37101158e-01,\n",
       "        -8.59726954e-01],\n",
       "       [ 1.69061641e+00,  1.06063518e+00,  1.21879121e+00,\n",
       "         5.36262135e-02,  1.36470133e-01,  1.65360785e+00,\n",
       "         1.16316000e+00],\n",
       "       [-8.10912189e-01, -5.49291726e-01, -7.54959740e-01,\n",
       "        -2.58607926e-01, -6.43359200e-01,  4.22495406e-01,\n",
       "        -8.59726954e-01],\n",
       "       [-1.36680743e+00, -9.32607656e-01, -7.54959740e-01,\n",
       "        -4.38142556e-01, -6.43359200e-01, -5.84778410e-01,\n",
       "        -8.59726954e-01],\n",
       "       [-1.27415823e+00, -1.46924996e+00, -8.53647287e-01,\n",
       "        -3.91307435e-01,  9.16299467e-01, -1.14437497e+00,\n",
       "        -8.59726954e-01],\n",
       "       [ 1.32001958e+00, -1.23926040e+00, -7.54959740e-01,\n",
       "         6.79109254e-03,  1.36470133e-01, -9.20536348e-01,\n",
       "         1.16316000e+00],\n",
       "       [ 3.47202905e-01, -9.32607656e-01, -7.54959740e-01,\n",
       "        -3.28860608e-01, -1.42318853e+00,  3.10576093e-01,\n",
       "        -8.59726954e-01],\n",
       "       [-4.40315359e-01, -8.55944470e-01, -7.54959740e-01,\n",
       "         6.79109254e-03,  1.36470133e-01, -3.60939784e-01,\n",
       "         1.16316000e+00],\n",
       "       [-2.33939249e-02, -5.49291726e-01, -4.58897097e-01,\n",
       "         2.24027995e-02,  9.16299467e-01, -2.51818454e-02,\n",
       "        -8.59726954e-01],\n",
       "       [-1.16043132e-01, -6.25954912e-01,  3.45406417e-02,\n",
       "        -2.58607926e-01,  9.16299467e-01, -3.60939784e-01,\n",
       "         1.16316000e+00],\n",
       "       [ 8.10448943e-01,  1.21396155e+00,  1.31747876e+00,\n",
       "        -2.97637194e-01, -1.42318853e+00, -3.60939784e-01,\n",
       "        -8.59726954e-01],\n",
       "       [ 3.47202905e-01,  1.40676946e-01, -8.53647287e-01,\n",
       "        -1.57131831e-01,  9.16299467e-01,  8.70172658e-01,\n",
       "         1.16316000e+00],\n",
       "       [ 7.64124339e-01,  6.40137602e-02,  5.27978380e-01,\n",
       "        -3.75695728e-01,  1.36470133e-01, -2.49020471e-01,\n",
       "        -8.59726954e-01],\n",
       "       [ 1.22737038e+00,  2.67056208e+00,  8.24041023e-01,\n",
       "        -3.13248901e-01,  1.36470133e-01,  8.70172658e-01,\n",
       "        -8.59726954e-01],\n",
       "       [ 5.32501320e-01, -8.93126115e-02,  4.29290832e-01,\n",
       "         4.04889621e-01,  9.16299467e-01,  1.98656780e-01,\n",
       "         1.16316000e+00],\n",
       "       [ 1.61904490e-01,  4.47329689e-01, -1.05102238e+00,\n",
       "        -5.56557354e-02,  9.16299467e-01, -2.51818454e-02,\n",
       "        -8.59726954e-01],\n",
       "       [ 1.69061641e+00,  1.52061429e+00,  2.20566669e+00,\n",
       "        -1.10296710e-01, -1.42318853e+00, -2.49020471e-01,\n",
       "        -8.59726954e-01],\n",
       "       [-1.62367736e-01, -1.08593403e+00, -8.53647287e-01,\n",
       "         1.23878895e-01,  9.16299467e-01, -1.03245566e+00,\n",
       "         1.16316000e+00],\n",
       "       [-1.22783362e+00, -1.26494257e-02,  3.45406417e-02,\n",
       "        -2.82025487e-01,  9.16299467e-01, -8.08617036e-01,\n",
       "         1.16316000e+00],\n",
       "       [ 4.86176716e-01,  2.94003318e-01,  3.45406417e-02,\n",
       "         1.62908162e-01,  1.36470133e-01,  7.58253345e-01,\n",
       "         1.16316000e+00]])"
      ]
     },
     "execution_count": 23,
     "metadata": {},
     "output_type": "execute_result"
    }
   ],
   "source": [
    "# Info \n",
    "x_test"
   ]
  },
  {
   "cell_type": "code",
   "execution_count": 24,
   "id": "aaac93db",
   "metadata": {},
   "outputs": [
    {
     "data": {
      "text/plain": [
       "array([-1.00927084,  0.3706665 ,  1.4439511 ,  2.59389889, -1.31592358,\n",
       "        0.83064562, -1.46924996,  2.59389889,  1.59727748,  1.06063518,\n",
       "        0.3706665 , -0.85594447, -0.7026181 ,  0.52399288,  0.29400332,\n",
       "       -1.16259721,  0.67731925,  0.83064562, -1.08593403, -1.31592358,\n",
       "       -0.47262854,  1.06063518, -0.54929173, -0.93260766, -1.46924996,\n",
       "       -1.2392604 , -0.93260766, -0.85594447, -0.54929173, -0.62595491,\n",
       "        1.21396155,  0.14067695,  0.06401376,  2.67056208, -0.08931261,\n",
       "        0.44732969,  1.52061429, -1.08593403, -0.01264943,  0.29400332])"
      ]
     },
     "execution_count": 24,
     "metadata": {},
     "output_type": "execute_result"
    }
   ],
   "source": [
    "# info - 1 index col values\n",
    "x_test[:,1] "
   ]
  },
  {
   "cell_type": "code",
   "execution_count": 25,
   "id": "f1d74127",
   "metadata": {},
   "outputs": [
    {
     "data": {
      "text/plain": [
       "array([-1.03245566,  0.31057609,  1.87744647, -0.4728591 , -0.69669772,\n",
       "        1.98936579, -1.14437497,  3.78007479, -0.69669772,  1.2059306 ,\n",
       "        0.98209197, -0.80861704, -0.58477841,  0.98209197,  1.2059306 ,\n",
       "       -1.14437497, -0.24902047,  1.54168853, -0.92053635, -1.14437497,\n",
       "       -0.13710116,  1.65360785,  0.42249541, -0.58477841, -1.14437497,\n",
       "       -0.92053635,  0.31057609, -0.36093978, -0.02518185, -0.36093978,\n",
       "       -0.36093978,  0.87017266, -0.24902047,  0.87017266,  0.19865678,\n",
       "       -0.02518185, -0.24902047, -1.03245566, -0.80861704,  0.75825334])"
      ]
     },
     "execution_count": 25,
     "metadata": {},
     "output_type": "execute_result"
    }
   ],
   "source": [
    "# Info - 2nd last col values\n",
    "x_test[:,-2]"
   ]
  },
  {
   "cell_type": "code",
   "execution_count": 26,
   "id": "a44aa13d",
   "metadata": {},
   "outputs": [
    {
     "data": {
      "text/plain": [
       "<matplotlib.collections.PathCollection at 0x2310d18d670>"
      ]
     },
     "execution_count": 26,
     "metadata": {},
     "output_type": "execute_result"
    },
    {
     "data": {
      "image/png": "[encoded data removed]",
      "text/plain": [
       "<Figure size 640x480 with 1 Axes>"
      ]
     },
     "metadata": {},
     "output_type": "display_data"
    }
   ],
   "source": [
    "# Step 11. Plotting graph\n",
    "plt.scatter(x_test[:,1], x_test[:,-2])"
   ]
  },
  {
   "cell_type": "code",
   "execution_count": 27,
   "id": "8e9737de",
   "metadata": {},
   "outputs": [
    {
     "data": {
      "text/plain": [
       "<matplotlib.collections.PathCollection at 0x2310da6df40>"
      ]
     },
     "execution_count": 27,
     "metadata": {},
     "output_type": "execute_result"
    },
    {
     "data": {
      "image/png": "[encoded data removed]",
      "text/plain": [
       "<Figure size 640x480 with 1 Axes>"
      ]
     },
     "metadata": {},
     "output_type": "display_data"
    }
   ],
   "source": [
    "# this is acutal data \n",
    "# blue is 0 , yellow is 1\n",
    "\n",
    "plt.scatter(x_test[:,1],x_test[:,-2], c = y_test)"
   ]
  },
  {
   "cell_type": "code",
   "execution_count": 28,
   "id": "307c65eb",
   "metadata": {},
   "outputs": [
    {
     "data": {
      "text/plain": [
       "<matplotlib.collections.PathCollection at 0x2310d8cf850>"
      ]
     },
     "execution_count": 28,
     "metadata": {},
     "output_type": "execute_result"
    },
    {
     "data": {
      "image/png": "[encoded data removed]",
      "text/plain": [
       "<Figure size 640x480 with 1 Axes>"
      ]
     },
     "metadata": {},
     "output_type": "display_data"
    }
   ],
   "source": [
    "# this o/p by ML\n",
    "\n",
    "plt.scatter(x_test[:,1], x_test[:,-2], c = yhat)"
   ]
  },
  {
   "cell_type": "code",
   "execution_count": null,
   "id": "16458f3a",
   "metadata": {},
   "outputs": [],
   "source": []
  },
  {
   "cell_type": "code",
   "execution_count": null,
   "id": "ab7b4db5",
   "metadata": {},
   "outputs": [],
   "source": []
  }
 ],
 "metadata": {
  "kernelspec": {
   "display_name": "Python 3 (ipykernel)",
   "language": "python",
   "name": "python3"
  },
  "language_info": {
   "codemirror_mode": {
    "name": "ipython",
    "version": 3
   },
   "file_extension": ".py",
   "mimetype": "text/x-python",
   "name": "python",
   "nbconvert_exporter": "python",
   "pygments_lexer": "ipython3",
   "version": "3.9.13"
  }
 },
 "nbformat": 4,
 "nbformat_minor": 5
}
